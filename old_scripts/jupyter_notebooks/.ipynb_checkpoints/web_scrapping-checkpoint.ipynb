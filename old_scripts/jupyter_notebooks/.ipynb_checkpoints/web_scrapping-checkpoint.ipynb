{
 "cells": [
  {
   "cell_type": "code",
   "execution_count": 1,
   "metadata": {},
   "outputs": [],
   "source": [
    "#html parse\n",
    "from requests import get\n",
    "from requests.exceptions import RequestException\n",
    "from contextlib import closing\n",
    "from bs4 import BeautifulSoup"
   ]
  },
  {
   "cell_type": "code",
   "execution_count": 2,
   "metadata": {},
   "outputs": [],
   "source": [
    "from tqdm import tqdm\n",
    "import argparse\n",
    "import os\n",
    "import numpy as np\n",
    "import pandas as pd\n",
    "import re"
   ]
  },
  {
   "cell_type": "code",
   "execution_count": 4,
   "metadata": {},
   "outputs": [],
   "source": [
    "\n",
    "def simple_get(url):\n",
    "    \"\"\"\n",
    "    Attempts to get the content at `url` by making an HTTP GET request.\n",
    "    If the content-type of response is some kind of HTML/XML, return the\n",
    "    text content, otherwise return None.\n",
    "    \"\"\"\n",
    "    try:\n",
    "        with closing(get(url, stream=True)) as response:\n",
    "            if is_good_response(response):\n",
    "                return response.content\n",
    "            else:\n",
    "                return None\n",
    "\n",
    "    except RequestException as e:\n",
    "        log_error('Error during requests to {0} : {1}'.format(url, str(e)))\n",
    "        return None\n",
    "\n",
    "\n",
    "def is_good_response(response):\n",
    "    \"\"\"\n",
    "    Returns True if the response seems to be HTML, False otherwise.\n",
    "    \"\"\"\n",
    "    content_type = response.headers['Content-Type'].lower()\n",
    "    return (response.status_code == 200 \n",
    "            and content_type is not None \n",
    "            and content_type.find('html') > -1)\n",
    "\n",
    "\n",
    "def log_error(e):\n",
    "    \"\"\"\n",
    "    It is always a good idea to log errors. \n",
    "    This function just prints them, but you can\n",
    "    make it do anything.\n",
    "    \"\"\"\n",
    "    print(e)"
   ]
  },
  {
   "cell_type": "code",
   "execution_count": 5,
   "metadata": {},
   "outputs": [],
   "source": [
    "id = []"
   ]
  },
  {
   "cell_type": "code",
   "execution_count": null,
   "metadata": {},
   "outputs": [],
   "source": [
    "site = \"https://www.ncbi.nlm.nih.gov/sra/?term=\"+\"R4241\""
   ]
  },
  {
   "cell_type": "code",
   "execution_count": 58,
   "metadata": {
    "scrolled": true
   },
   "outputs": [
    {
     "name": "stdout",
     "output_type": "stream",
     "text": [
      "<p class=\"title\"><a href=\"/sra/ERX1944057[accn]\" ref=\"ordinalpos=1&amp;ncbi_uid=3989444&amp;link_uid=3989444\">Illumina MiSeq paired end sequencing</a></p>\n",
      "\n",
      "<p class=\"title\"><a href=\"/sra/SRX4465710[accn]\" ref=\"ordinalpos=2&amp;ncbi_uid=6051395&amp;link_uid=6051395\"><b>R4241</b></a></p>\n",
      "\n",
      "<p class=\"title\"><a href=\"/sra/ERX1079431[accn]\" ref=\"ordinalpos=3&amp;ncbi_uid=1723228&amp;link_uid=1723228\">Illumina MiSeq paired end sequencing</a></p>\n",
      "\n"
     ]
    }
   ],
   "source": [
    "raw_html = simple_get(str(site))\n",
    "html = BeautifulSoup(raw_html)\n",
    "#print (site)\n",
    "rslt_tags = html.find_all('div', attrs={'class':\"rslt\"})\n",
    "for ptag in rslt_tags:\n",
    "    title = ptag.find('p', class_='title')\n",
    "    b_tag = title.find('b')\n",
    "#title_tags = rslt_tags.find('p', attrs={'class':\"title\"})\n",
    "#tags = html.find_all('div', attrs={'class':['rslt','rprt']})\n",
    "    #print (rslt_tags)\n",
    "    print (str(title) + \"\\n\")\n",
    "for div in title_tags:\n",
    "    full_text = \"\"\n",
    "    text = div.get_text()\n",
    "    #print(text)\n"
   ]
  },
  {
   "cell_type": "code",
   "execution_count": null,
   "metadata": {},
   "outputs": [],
   "source": []
  },
  {
   "cell_type": "code",
   "execution_count": null,
   "metadata": {},
   "outputs": [],
   "source": []
  },
  {
   "cell_type": "code",
   "execution_count": null,
   "metadata": {},
   "outputs": [],
   "source": []
  },
  {
   "cell_type": "code",
   "execution_count": null,
   "metadata": {},
   "outputs": [],
   "source": []
  }
 ],
 "metadata": {
  "kernelspec": {
   "display_name": "Python 3",
   "language": "python",
   "name": "python3"
  },
  "language_info": {
   "codemirror_mode": {
    "name": "ipython",
    "version": 3
   },
   "file_extension": ".py",
   "mimetype": "text/x-python",
   "name": "python",
   "nbconvert_exporter": "python",
   "pygments_lexer": "ipython3",
   "version": "3.6.9"
  }
 },
 "nbformat": 4,
 "nbformat_minor": 2
}
